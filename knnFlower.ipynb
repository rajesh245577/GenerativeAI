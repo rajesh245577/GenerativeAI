{
  "nbformat": 4,
  "nbformat_minor": 0,
  "metadata": {
    "colab": {
      "provenance": []
    },
    "kernelspec": {
      "name": "python3",
      "display_name": "Python 3"
    },
    "language_info": {
      "name": "python"
    }
  },
  "cells": [
    {
      "cell_type": "code",
      "source": [
        "import pandas as pd\n",
        "import numpy as np\n",
        "import gradio as gr\n",
        "from sklearn.datasets import load_iris\n",
        "from sklearn.model_selection import train_test_split\n",
        "from sklearn.neighbors import KNeighborsClassifier\n",
        "from sklearn.preprocessing import StandardScaler\n",
        "\n",
        "# 📊 Load Iris dataset\n",
        "iris = load_iris()\n",
        "X = iris.data\n",
        "y = iris.target\n",
        "target_names = iris.target_names\n",
        "\n",
        "# ⚙️ Preprocessing\n",
        "scaler = StandardScaler()\n",
        "X_scaled = scaler.fit_transform(X)\n",
        "\n",
        "# 🧠 Train KNN model\n",
        "X_train, X_test, y_train, y_test = train_test_split(X_scaled, y, test_size=0.2, random_state=42)\n",
        "knn = KNeighborsClassifier(n_neighbors=5)\n",
        "knn.fit(X_train, y_train)\n",
        "\n",
        "# 🔍 Prediction function\n",
        "def predict_species(sepal_length, sepal_width, petal_length, petal_width):\n",
        "    user_input = scaler.transform([[sepal_length, sepal_width, petal_length, petal_width]])\n",
        "    prediction = knn.predict(user_input)[0]\n",
        "    return f\"🌸 Predicted Species: {target_names[prediction].capitalize()}\"\n",
        "\n",
        "# 🎨 Gradio UI\n",
        "inputs = [\n",
        "    gr.Number(label=\"Sepal Length (cm)\", value=5.1),\n",
        "    gr.Number(label=\"Sepal Width (cm)\", value=3.5),\n",
        "    gr.Number(label=\"Petal Length (cm)\", value=1.4),\n",
        "    gr.Number(label=\"Petal Width (cm)\", value=0.2),\n",
        "]\n",
        "\n",
        "interface = gr.Interface(\n",
        "    fn=predict_species,\n",
        "    inputs=inputs,\n",
        "    outputs=gr.Textbox(label=\"Prediction\"),\n",
        "    title=\"🌼 Iris Flower Classifier\",\n",
        "    description=\"Enter flower measurements to predict the Iris species using KNN.\",\n",
        "    theme=\"soft\"\n",
        ")\n",
        "\n",
        "interface.launch()\n"
      ],
      "metadata": {
        "colab": {
          "base_uri": "https://localhost:8080/",
          "height": 646
        },
        "id": "fQ5wg2cp6yhg",
        "outputId": "9fb06f69-21d7-48e5-c41d-cdd8d376600c"
      },
      "execution_count": 14,
      "outputs": [
        {
          "output_type": "stream",
          "name": "stdout",
          "text": [
            "Running Gradio in a Colab notebook requires sharing enabled. Automatically setting `share=True` (you can turn this off by setting `share=False` in `launch()` explicitly).\n",
            "\n",
            "Colab notebook detected. To show errors in colab notebook, set debug=True in launch()\n",
            "* Running on public URL: https://9d876442f01b48102f.gradio.live\n",
            "\n",
            "This share link expires in 72 hours. For free permanent hosting and GPU upgrades, run `gradio deploy` from the terminal in the working directory to deploy to Hugging Face Spaces (https://huggingface.co/spaces)\n"
          ]
        },
        {
          "output_type": "display_data",
          "data": {
            "text/plain": [
              "<IPython.core.display.HTML object>"
            ],
            "text/html": [
              "<div><iframe src=\"https://9d876442f01b48102f.gradio.live\" width=\"100%\" height=\"500\" allow=\"autoplay; camera; microphone; clipboard-read; clipboard-write;\" frameborder=\"0\" allowfullscreen></iframe></div>"
            ]
          },
          "metadata": {}
        },
        {
          "output_type": "execute_result",
          "data": {
            "text/plain": []
          },
          "metadata": {},
          "execution_count": 14
        }
      ]
    }
  ]
}
