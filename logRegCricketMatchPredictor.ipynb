{
  "nbformat": 4,
  "nbformat_minor": 0,
  "metadata": {
    "colab": {
      "provenance": []
    },
    "kernelspec": {
      "name": "python3",
      "display_name": "Python 3"
    },
    "language_info": {
      "name": "python"
    }
  },
  "cells": [
    {
      "cell_type": "code",
      "execution_count": 1,
      "metadata": {
        "colab": {
          "base_uri": "https://localhost:8080/",
          "height": 889
        },
        "id": "2rS_EU_fyOyL",
        "outputId": "6f6c3d6a-06d7-469b-c935-82ef52394bd5"
      },
      "outputs": [
        {
          "output_type": "stream",
          "name": "stdout",
          "text": [
            "\u001b[2K   \u001b[90m━━━━━━━━━━━━━━━━━━━━━━━━━━━━━━━━━━━━━━━━\u001b[0m \u001b[32m46.9/46.9 MB\u001b[0m \u001b[31m19.5 MB/s\u001b[0m eta \u001b[36m0:00:00\u001b[0m\n",
            "\u001b[2K   \u001b[90m━━━━━━━━━━━━━━━━━━━━━━━━━━━━━━━━━━━━━━━━\u001b[0m \u001b[32m322.2/322.2 kB\u001b[0m \u001b[31m14.1 MB/s\u001b[0m eta \u001b[36m0:00:00\u001b[0m\n",
            "\u001b[2K   \u001b[90m━━━━━━━━━━━━━━━━━━━━━━━━━━━━━━━━━━━━━━━━\u001b[0m \u001b[32m95.2/95.2 kB\u001b[0m \u001b[31m7.5 MB/s\u001b[0m eta \u001b[36m0:00:00\u001b[0m\n",
            "\u001b[2K   \u001b[90m━━━━━━━━━━━━━━━━━━━━━━━━━━━━━━━━━━━━━━━━\u001b[0m \u001b[32m11.4/11.4 MB\u001b[0m \u001b[31m66.3 MB/s\u001b[0m eta \u001b[36m0:00:00\u001b[0m\n",
            "\u001b[2K   \u001b[90m━━━━━━━━━━━━━━━━━━━━━━━━━━━━━━━━━━━━━━━━\u001b[0m \u001b[32m72.0/72.0 kB\u001b[0m \u001b[31m4.5 MB/s\u001b[0m eta \u001b[36m0:00:00\u001b[0m\n",
            "\u001b[2K   \u001b[90m━━━━━━━━━━━━━━━━━━━━━━━━━━━━━━━━━━━━━━━━\u001b[0m \u001b[32m62.3/62.3 kB\u001b[0m \u001b[31m4.6 MB/s\u001b[0m eta \u001b[36m0:00:00\u001b[0m\n",
            "\u001b[?25h"
          ]
        },
        {
          "output_type": "stream",
          "name": "stderr",
          "text": [
            "/usr/local/lib/python3.11/dist-packages/sklearn/linear_model/_logistic.py:465: ConvergenceWarning: lbfgs failed to converge (status=1):\n",
            "STOP: TOTAL NO. of ITERATIONS REACHED LIMIT.\n",
            "\n",
            "Increase the number of iterations (max_iter) or scale the data as shown in:\n",
            "    https://scikit-learn.org/stable/modules/preprocessing.html\n",
            "Please also refer to the documentation for alternative solver options:\n",
            "    https://scikit-learn.org/stable/modules/linear_model.html#logistic-regression\n",
            "  n_iter_i = _check_optimize_result(\n"
          ]
        },
        {
          "output_type": "stream",
          "name": "stdout",
          "text": [
            "Running Gradio in a Colab notebook requires sharing enabled. Automatically setting `share=True` (you can turn this off by setting `share=False` in `launch()` explicitly).\n",
            "\n",
            "Colab notebook detected. To show errors in colab notebook, set debug=True in launch()\n",
            "* Running on public URL: https://dc6c53765e4002e6f9.gradio.live\n",
            "\n",
            "This share link expires in 72 hours. For free permanent hosting and GPU upgrades, run `gradio deploy` from the terminal in the working directory to deploy to Hugging Face Spaces (https://huggingface.co/spaces)\n"
          ]
        },
        {
          "output_type": "display_data",
          "data": {
            "text/plain": [
              "<IPython.core.display.HTML object>"
            ],
            "text/html": [
              "<div><iframe src=\"https://dc6c53765e4002e6f9.gradio.live\" width=\"100%\" height=\"500\" allow=\"autoplay; camera; microphone; clipboard-read; clipboard-write;\" frameborder=\"0\" allowfullscreen></iframe></div>"
            ]
          },
          "metadata": {}
        },
        {
          "output_type": "execute_result",
          "data": {
            "text/plain": []
          },
          "metadata": {},
          "execution_count": 1
        }
      ],
      "source": [
        "# Step 1: Install dependencies\n",
        "!pip install gradio scikit-learn pandas -q\n",
        "\n",
        "# Step 2: Import libraries\n",
        "import pandas as pd\n",
        "from sklearn.model_selection import train_test_split\n",
        "from sklearn.preprocessing import OneHotEncoder\n",
        "from sklearn.linear_model import LogisticRegression\n",
        "from sklearn.pipeline import Pipeline\n",
        "from sklearn.compose import ColumnTransformer\n",
        "import gradio as gr\n",
        "\n",
        "# Step 3: Create sample dataset (can be replaced with real match data)\n",
        "data = {\n",
        "    \"team1\": [\"India\", \"Australia\", \"India\", \"England\", \"Pakistan\", \"Australia\", \"England\", \"India\"],\n",
        "    \"team2\": [\"Pakistan\", \"India\", \"England\", \"Australia\", \"India\", \"Pakistan\", \"India\", \"Australia\"],\n",
        "    \"toss_winner\": [\"India\", \"India\", \"England\", \"Australia\", \"India\", \"Pakistan\", \"England\", \"Australia\"],\n",
        "    \"bat_first\": [\"India\", \"India\", \"England\", \"Australia\", \"Pakistan\", \"Pakistan\", \"England\", \"Australia\"],\n",
        "    \"score\": [250, 310, 280, 275, 240, 260, 300, 290],\n",
        "    \"wickets\": [8, 6, 7, 9, 10, 8, 6, 7],\n",
        "    \"overs\": [50, 50, 48.3, 50, 47.2, 50, 50, 49],\n",
        "    \"result\": [1, 1, 1, 0, 0, 0, 1, 1]  # 1 = win for bat_first team, 0 = lose\n",
        "}\n",
        "\n",
        "df = pd.DataFrame(data)\n",
        "\n",
        "# Step 4: Define features and target\n",
        "X = df.drop(\"result\", axis=1)\n",
        "y = df[\"result\"]\n",
        "\n",
        "# Step 5: Preprocessing pipeline\n",
        "categorical = [\"team1\", \"team2\", \"toss_winner\", \"bat_first\"]\n",
        "numerical = [\"score\", \"wickets\", \"overs\"]\n",
        "\n",
        "preprocessor = ColumnTransformer([\n",
        "    (\"cat\", OneHotEncoder(), categorical)\n",
        "], remainder=\"passthrough\")\n",
        "\n",
        "# Step 6: Build pipeline with logistic regression\n",
        "model = Pipeline([\n",
        "    (\"preprocessor\", preprocessor),\n",
        "    (\"classifier\", LogisticRegression())\n",
        "])\n",
        "\n",
        "# Step 7: Train model\n",
        "model.fit(X, y)\n",
        "\n",
        "# Step 8: Gradio interface\n",
        "def predict_win(team1, team2, toss_winner, bat_first, score, wickets, overs):\n",
        "    input_data = pd.DataFrame([{\n",
        "        \"team1\": team1,\n",
        "        \"team2\": team2,\n",
        "        \"toss_winner\": toss_winner,\n",
        "        \"bat_first\": bat_first,\n",
        "        \"score\": float(score),\n",
        "        \"wickets\": int(wickets),\n",
        "        \"overs\": float(overs)\n",
        "    }])\n",
        "    prediction = model.predict(input_data)[0]\n",
        "    return \"✅ Team batting first will WIN\" if prediction == 1 else \"❌ Team batting first will LOSE\"\n",
        "\n",
        "teams = [\"India\", \"Pakistan\", \"Australia\", \"England\"]\n",
        "\n",
        "interface = gr.Interface(\n",
        "    fn=predict_win,\n",
        "    inputs=[\n",
        "        gr.Dropdown(teams, label=\"Team 1\"),\n",
        "        gr.Dropdown(teams, label=\"Team 2\"),\n",
        "        gr.Dropdown(teams, label=\"Toss Winner\"),\n",
        "        gr.Dropdown(teams, label=\"Team Batting First\"),\n",
        "        gr.Number(label=\"First Innings Score\"),\n",
        "        gr.Number(label=\"Wickets Lost\"),\n",
        "        gr.Number(label=\"Overs Played\")\n",
        "    ],\n",
        "    outputs=gr.Textbox(label=\"Match Result Prediction\"),\n",
        "    title=\"🏏 Cricket Match Win Predictor\",\n",
        "    description=\"Predicts if the team batting first will win the match using Logistic Regression.\"\n",
        ")\n",
        "\n",
        "interface.launch()\n"
      ]
    }
  ]
}
