{
  "nbformat": 4,
  "nbformat_minor": 0,
  "metadata": {
    "colab": {
      "provenance": []
    },
    "kernelspec": {
      "name": "python3",
      "display_name": "Python 3"
    },
    "language_info": {
      "name": "python"
    }
  },
  "cells": [
    {
      "cell_type": "code",
      "execution_count": 1,
      "metadata": {
        "colab": {
          "base_uri": "https://localhost:8080/",
          "height": 750
        },
        "id": "3knal-kA-CIl",
        "outputId": "20ca2564-f321-484a-bd55-ad5808849d7d"
      },
      "outputs": [
        {
          "output_type": "stream",
          "name": "stdout",
          "text": [
            "\u001b[2K   \u001b[90m━━━━━━━━━━━━━━━━━━━━━━━━━━━━━━━━━━━━━━━━\u001b[0m \u001b[32m46.9/46.9 MB\u001b[0m \u001b[31m8.6 MB/s\u001b[0m eta \u001b[36m0:00:00\u001b[0m\n",
            "\u001b[2K   \u001b[90m━━━━━━━━━━━━━━━━━━━━━━━━━━━━━━━━━━━━━━━━\u001b[0m \u001b[32m322.2/322.2 kB\u001b[0m \u001b[31m12.1 MB/s\u001b[0m eta \u001b[36m0:00:00\u001b[0m\n",
            "\u001b[2K   \u001b[90m━━━━━━━━━━━━━━━━━━━━━━━━━━━━━━━━━━━━━━━━\u001b[0m \u001b[32m95.2/95.2 kB\u001b[0m \u001b[31m5.9 MB/s\u001b[0m eta \u001b[36m0:00:00\u001b[0m\n",
            "\u001b[2K   \u001b[90m━━━━━━━━━━━━━━━━━━━━━━━━━━━━━━━━━━━━━━━━\u001b[0m \u001b[32m11.4/11.4 MB\u001b[0m \u001b[31m12.5 MB/s\u001b[0m eta \u001b[36m0:00:00\u001b[0m\n",
            "\u001b[2K   \u001b[90m━━━━━━━━━━━━━━━━━━━━━━━━━━━━━━━━━━━━━━━━\u001b[0m \u001b[32m72.0/72.0 kB\u001b[0m \u001b[31m2.0 MB/s\u001b[0m eta \u001b[36m0:00:00\u001b[0m\n",
            "\u001b[2K   \u001b[90m━━━━━━━━━━━━━━━━━━━━━━━━━━━━━━━━━━━━━━━━\u001b[0m \u001b[32m62.3/62.3 kB\u001b[0m \u001b[31m2.2 MB/s\u001b[0m eta \u001b[36m0:00:00\u001b[0m\n",
            "\u001b[?25hRunning Gradio in a Colab notebook requires sharing enabled. Automatically setting `share=True` (you can turn this off by setting `share=False` in `launch()` explicitly).\n",
            "\n",
            "Colab notebook detected. To show errors in colab notebook, set debug=True in launch()\n",
            "* Running on public URL: https://5f86f406e461df13ad.gradio.live\n",
            "\n",
            "This share link expires in 72 hours. For free permanent hosting and GPU upgrades, run `gradio deploy` from the terminal in the working directory to deploy to Hugging Face Spaces (https://huggingface.co/spaces)\n"
          ]
        },
        {
          "output_type": "display_data",
          "data": {
            "text/plain": [
              "<IPython.core.display.HTML object>"
            ],
            "text/html": [
              "<div><iframe src=\"https://5f86f406e461df13ad.gradio.live\" width=\"100%\" height=\"500\" allow=\"autoplay; camera; microphone; clipboard-read; clipboard-write;\" frameborder=\"0\" allowfullscreen></iframe></div>"
            ]
          },
          "metadata": {}
        },
        {
          "output_type": "execute_result",
          "data": {
            "text/plain": []
          },
          "metadata": {},
          "execution_count": 1
        }
      ],
      "source": [
        "# Step 1: Install dependencies\n",
        "!pip install gradio scikit-learn pandas -q\n",
        "\n",
        "# Step 2: Import libraries\n",
        "import pandas as pd\n",
        "from sklearn.model_selection import train_test_split\n",
        "from sklearn.tree import DecisionTreeClassifier\n",
        "from sklearn.pipeline import Pipeline\n",
        "from sklearn.compose import ColumnTransformer\n",
        "from sklearn.preprocessing import OneHotEncoder, StandardScaler\n",
        "import gradio as gr\n",
        "\n",
        "# Step 3: Sample synthetic dataset\n",
        "data = {\n",
        "    \"education\": [\"Bachelors\", \"Masters\", \"PhD\", \"Bachelors\", \"Masters\", \"PhD\", \"Bachelors\", \"Masters\"],\n",
        "    \"experience_years\": [2, 5, 7, 1, 3, 8, 0, 4],\n",
        "    \"technical_skill\": [\"Intermediate\", \"Advanced\", \"Advanced\", \"Beginner\", \"Intermediate\", \"Advanced\", \"Beginner\", \"Intermediate\"],\n",
        "    \"certified\": [\"Yes\", \"Yes\", \"No\", \"No\", \"Yes\", \"Yes\", \"No\", \"Yes\"],\n",
        "    \"internship\": [\"Yes\", \"Yes\", \"No\", \"No\", \"Yes\", \"No\", \"No\", \"Yes\"],\n",
        "    \"status\": [\"Accept\", \"Accept\", \"Reject\", \"Reject\", \"Accept\", \"Accept\", \"Reject\", \"Accept\"]\n",
        "}\n",
        "\n",
        "df = pd.DataFrame(data)\n",
        "\n",
        "# Step 4: Define features and target\n",
        "X = df.drop(\"status\", axis=1)\n",
        "y = df[\"status\"]\n",
        "\n",
        "# Step 5: Preprocessing\n",
        "categorical = [\"education\", \"technical_skill\", \"certified\", \"internship\"]\n",
        "numerical = [\"experience_years\"]\n",
        "\n",
        "preprocessor = ColumnTransformer([\n",
        "    (\"cat\", OneHotEncoder(), categorical),\n",
        "    (\"num\", StandardScaler(), numerical)\n",
        "])\n",
        "\n",
        "# Step 6: Build pipeline\n",
        "model = Pipeline([\n",
        "    (\"preprocessor\", preprocessor),\n",
        "    (\"classifier\", DecisionTreeClassifier(max_depth=4, random_state=42))\n",
        "])\n",
        "\n",
        "# Step 7: Train model\n",
        "model.fit(X, y)\n",
        "\n",
        "# Step 8: Gradio interface\n",
        "def predict_app(education, experience_years, technical_skill, certified, internship):\n",
        "    input_df = pd.DataFrame([{\n",
        "        \"education\": education,\n",
        "        \"experience_years\": float(experience_years),\n",
        "        \"technical_skill\": technical_skill,\n",
        "        \"certified\": certified,\n",
        "        \"internship\": internship\n",
        "    }])\n",
        "    prediction = model.predict(input_df)[0]\n",
        "    return f\"🎯 Application Status: {prediction}\"\n",
        "\n",
        "interface = gr.Interface(\n",
        "    fn=predict_app,\n",
        "    inputs=[\n",
        "        gr.Dropdown([\"Bachelors\", \"Masters\", \"PhD\"], label=\"Education Qualification\"),\n",
        "        gr.Number(label=\"Years of Experience\"),\n",
        "        gr.Dropdown([\"Beginner\", \"Intermediate\", \"Advanced\"], label=\"Technical Skill Level\"),\n",
        "        gr.Radio([\"Yes\", \"No\"], label=\"Certified (e.g., course completion, license)\"),\n",
        "        gr.Radio([\"Yes\", \"No\"], label=\"Internship Experience\")\n",
        "    ],\n",
        "    outputs=gr.Textbox(label=\"Prediction\"),\n",
        "    title=\"🧠 Application Screening using Decision Tree\",\n",
        "    description=\"Predict whether to accept or reject an application based on qualifications.\"\n",
        ")\n",
        "\n",
        "interface.launch()\n"
      ]
    }
  ]
}
